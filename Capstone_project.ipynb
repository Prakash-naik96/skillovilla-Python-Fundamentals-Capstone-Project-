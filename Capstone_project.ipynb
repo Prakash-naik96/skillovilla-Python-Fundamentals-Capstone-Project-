{
 "cells": [
  {
   "cell_type": "code",
   "execution_count": 32,
   "id": "a4ef6bbe-65c6-4ce1-a58b-09f2a051a89e",
   "metadata": {},
   "outputs": [
    {
     "name": "stdout",
     "output_type": "stream",
     "text": [
      "      ID     Project     Cost    Status\n",
      "0   A001   Project 1  1002000  Finished\n",
      "1   A002   Project 2  2000000   Ongoing\n",
      "2   A003   Project 3  4500000  Finished\n",
      "3   A004   Project 4  5500000   Ongoing\n",
      "4   A005   Project 5           Finished\n",
      "5   A002   Project 6   680000    Failed\n",
      "6   A005   Project 7   400000  Finished\n",
      "7   A003   Project 8   350000    Failed\n",
      "8   A001   Project 9            Ongoing\n",
      "9   A003  Project 10   300000  Finished\n",
      "10  A001  Project 11  2000000    Failed\n",
      "11  A004  Project 12  1000000   Ongoing\n",
      "12  A004  Project 13  3000000  Finished\n",
      "13  A005  Project 14  2000000  Finished\n"
     ]
    }
   ],
   "source": [
    "import pandas as pd\n",
    "from io import StringIO\n",
    "\n",
    "data = '''ID,Project,Cost,Status\n",
    "A001,Project 1,1002000,Finished\n",
    "A002,Project 2,2000000,Ongoing\n",
    "A003,Project 3,4500000,Finished\n",
    "A004,Project 4,5500000,Ongoing\n",
    "A005,Project 5, ,Finished\n",
    "A002,Project 6,680000,Failed\n",
    "A005,Project 7,400000,Finished\n",
    "A003,Project 8,350000,Failed\n",
    "A001,Project 9, ,Ongoing\n",
    "A003,Project 10,300000,Finished\n",
    "A001,Project 11,2000000,Failed\n",
    "A004,Project 12,1000000,Ongoing\n",
    "A004,Project 13,3000000,Finished\n",
    "A005,Project 14,2000000,Finished\n",
    "'''\n",
    "Project= pd.read_csv(StringIO(data))\n",
    "print(Project)"
   ]
  },
  {
   "cell_type": "code",
   "execution_count": 34,
   "id": "3685267a-9dec-4c9f-9870-9b30a9b965a2",
   "metadata": {},
   "outputs": [
    {
     "name": "stdout",
     "output_type": "stream",
     "text": [
      "     ID             Name Gender     City  Age\n",
      "0  A001       Jhon Alter      M    Paris   25\n",
      "1  A002  Alice Luxumberg      F   London   27\n",
      "2  A003    Tom Sabestine      M   Berlin   29\n",
      "3  A004       Nina Adgra      F  Newyork   31\n",
      "4  A005        Amy Johny      F   Madrid   30\n"
     ]
    }
   ],
   "source": [
    "import pandas as pd \n",
    "from io import StringIO\n",
    "data = '''ID,Name,Gender,City,Age\n",
    "A001,Jhon Alter,M,Paris,25\n",
    "A002,Alice Luxumberg,F,London,27\n",
    "A003,Tom Sabestine,M,Berlin,29 \n",
    "A004,Nina Adgra,F,Newyork,31\n",
    "A005,Amy Johny,F,Madrid,30\n",
    "'''\n",
    "Employee = pd.read_csv(StringIO(data))\n",
    "print(Employee)"
   ]
  },
  {
   "cell_type": "code",
   "execution_count": 36,
   "id": "9abaa989-4715-4813-86ea-5fff490ca563",
   "metadata": {},
   "outputs": [
    {
     "name": "stdout",
     "output_type": "stream",
     "text": [
      "     ID  Designation Level\n",
      "0  A001                  2\n",
      "1  A002                  2\n",
      "2  A003                  3\n",
      "3  A004                  2\n",
      "4  A005                  3\n"
     ]
    }
   ],
   "source": [
    "import pandas as pd\n",
    "from io import StringIO\n",
    "data ='''ID,Designation Level\n",
    "A001,2\n",
    "A002,2\n",
    "A003,3\n",
    "A004,2\n",
    "A005,3\n",
    "'''\n",
    "Seniority_level = pd.read_csv(StringIO(data))\n",
    "print(Seniority_level)"
   ]
  },
  {
   "cell_type": "code",
   "execution_count": 37,
   "id": "1ee63a24-5360-43a0-ac62-763e0416af00",
   "metadata": {},
   "outputs": [
    {
     "name": "stdout",
     "output_type": "stream",
     "text": [
      "      ID     Project     Cost    Status\n",
      "0   A001   Project 1  1002000  Finished\n",
      "1   A002   Project 2  2000000   Ongoing\n",
      "2   A003   Project 3  4500000  Finished\n",
      "3   A004   Project 4  5500000   Ongoing\n",
      "4   A005   Project 5           Finished\n",
      "5   A002   Project 6   680000    Failed\n",
      "6   A005   Project 7   400000  Finished\n",
      "7   A003   Project 8   350000    Failed\n",
      "8   A001   Project 9            Ongoing\n",
      "9   A003  Project 10   300000  Finished\n",
      "10  A001  Project 11  2000000    Failed\n",
      "11  A004  Project 12  1000000   Ongoing\n",
      "12  A004  Project 13  3000000  Finished\n",
      "13  A005  Project 14  2000000  Finished\n"
     ]
    }
   ],
   "source": [
    "#task 2 :compute missing values in cost column using running avg with a for loop\n",
    "cost_values= Project['Cost'].tolist() # convert cost into a list\n",
    "for i in range(len(cost_values)):\n",
    "    if pd.isna(cost_values[i]): #check if value is missing\n",
    "        valid_values=[val for val in cost_values[:i] if not pd.isna(val)]\n",
    "        if valid_values:\n",
    "            runnig_avg= sum(valid_values)/len(valid_values)\n",
    "            cost_values[i]=runnig_avg\n",
    "        else:\n",
    "            cost_values[i] =0 \n",
    "Project['Cost'] = cost_values\n",
    "print(Project)"
   ]
  },
  {
   "cell_type": "code",
   "execution_count": 39,
   "id": "92c29f6b-57fe-42ff-8796-9166522bd351",
   "metadata": {},
   "outputs": [
    {
     "name": "stdout",
     "output_type": "stream",
     "text": [
      "     ID Gender     City  Age First_name  Last_name\n",
      "0  A001      M    Paris   25       Jhon      Alter\n",
      "1  A002      F   London   27      Alice  Luxumberg\n",
      "2  A003      M   Berlin   29        Tom  Sabestine\n",
      "3  A004      F  Newyork   31       Nina      Adgra\n",
      "4  A005      F   Madrid   30        Amy      Johny\n"
     ]
    }
   ],
   "source": [
    "#task 3: Split name into first_name and last_name\n",
    "Employee[['First_name', 'Last_name']] = Employee['Name'].str.split(' ',expand=True) #splits name into first and last name\n",
    "Employee = Employee.drop('Name',axis =1) #removes older Name\n",
    "print(Employee)"
   ]
  },
  {
   "cell_type": "code",
   "execution_count": 41,
   "id": "8d7cd2b5-648b-4526-81c6-28b942b274d5",
   "metadata": {},
   "outputs": [
    {
     "name": "stdout",
     "output_type": "stream",
     "text": [
      "      ID     Project     Cost    Status Gender     City  Age First_name  \\\n",
      "0   A001   Project 1  1002000  Finished      M    Paris   25       Jhon   \n",
      "1   A001   Project 9            Ongoing      M    Paris   25       Jhon   \n",
      "2   A001  Project 11  2000000    Failed      M    Paris   25       Jhon   \n",
      "3   A002   Project 2  2000000   Ongoing      F   London   27      Alice   \n",
      "4   A002   Project 6   680000    Failed      F   London   27      Alice   \n",
      "5   A003   Project 3  4500000  Finished      M   Berlin   29        Tom   \n",
      "6   A003   Project 8   350000    Failed      M   Berlin   29        Tom   \n",
      "7   A003  Project 10   300000  Finished      M   Berlin   29        Tom   \n",
      "8   A004   Project 4  5500000   Ongoing      F  Newyork   31       Nina   \n",
      "9   A004  Project 12  1000000   Ongoing      F  Newyork   31       Nina   \n",
      "10  A004  Project 13  3000000  Finished      F  Newyork   31       Nina   \n",
      "11  A005   Project 5           Finished      F   Madrid   30        Amy   \n",
      "12  A005   Project 7   400000  Finished      F   Madrid   30        Amy   \n",
      "13  A005  Project 14  2000000  Finished      F   Madrid   30        Amy   \n",
      "\n",
      "    Last_name  Designation Level  \n",
      "0       Alter                  2  \n",
      "1       Alter                  2  \n",
      "2       Alter                  2  \n",
      "3   Luxumberg                  2  \n",
      "4   Luxumberg                  2  \n",
      "5   Sabestine                  3  \n",
      "6   Sabestine                  3  \n",
      "7   Sabestine                  3  \n",
      "8       Adgra                  2  \n",
      "9       Adgra                  2  \n",
      "10      Adgra                  2  \n",
      "11      Johny                  3  \n",
      "12      Johny                  3  \n",
      "13      Johny                  3  \n"
     ]
    }
   ],
   "source": [
    "#task 4 join all three data frames name it final\n",
    "merged=pd.merge(Project,Employee,on='ID',how='outer') #joined project and employee named it merged\n",
    "Final=pd.merge(merged,Seniority_level,on='ID',how='outer') #joined merged and seniority_level named it final\n",
    "print(Final)"
   ]
  },
  {
   "cell_type": "code",
   "execution_count": 42,
   "id": "190ea52a-c99a-4710-9ce6-8360692dd94a",
   "metadata": {},
   "outputs": [
    {
     "name": "stdout",
     "output_type": "stream",
     "text": [
      "      ID     Project       Cost    Status Gender     City  Age First_name  \\\n",
      "0   A001   Project 1  1002000.0  Finished      M    Paris   25       Jhon   \n",
      "1   A001   Project 9        NaN   Ongoing      M    Paris   25       Jhon   \n",
      "2   A001  Project 11  2000000.0    Failed      M    Paris   25       Jhon   \n",
      "3   A002   Project 2  2000000.0   Ongoing      F   London   27      Alice   \n",
      "4   A002   Project 6   680000.0    Failed      F   London   27      Alice   \n",
      "5   A003   Project 3  4500000.0  Finished      M   Berlin   29        Tom   \n",
      "6   A003   Project 8   350000.0    Failed      M   Berlin   29        Tom   \n",
      "7   A003  Project 10   300000.0  Finished      M   Berlin   29        Tom   \n",
      "8   A004   Project 4  5500000.0   Ongoing      F  Newyork   31       Nina   \n",
      "9   A004  Project 12  1000000.0   Ongoing      F  Newyork   31       Nina   \n",
      "10  A004  Project 13  3000000.0  Finished      F  Newyork   31       Nina   \n",
      "11  A005   Project 5        NaN  Finished      F   Madrid   30        Amy   \n",
      "12  A005   Project 7   400000.0  Finished      F   Madrid   30        Amy   \n",
      "13  A005  Project 14  2000000.0  Finished      F   Madrid   30        Amy   \n",
      "\n",
      "    Last_name  Designation Level     Bonus  \n",
      "0       Alter                  2   50100.0  \n",
      "1       Alter                  2       0.0  \n",
      "2       Alter                  2       0.0  \n",
      "3   Luxumberg                  2       0.0  \n",
      "4   Luxumberg                  2       0.0  \n",
      "5   Sabestine                  3  225000.0  \n",
      "6   Sabestine                  3       0.0  \n",
      "7   Sabestine                  3   15000.0  \n",
      "8       Adgra                  2       0.0  \n",
      "9       Adgra                  2       0.0  \n",
      "10      Adgra                  2  150000.0  \n",
      "11      Johny                  3       0.0  \n",
      "12      Johny                  3   20000.0  \n",
      "13      Johny                  3  100000.0  \n"
     ]
    }
   ],
   "source": [
    "#Task 5: Add Bonus Column\n",
    "Final['Cost']=pd.to_numeric(Final['Cost'],errors='coerce') #converted cost into numeric type\n",
    "def calculate_bonus(row):\n",
    "    if row['Status'] == 'Finished' and pd.notna(row['Cost']):\n",
    "        return row['Cost']*0.05 #5% bonus if status is finished\n",
    "    else:\n",
    "        return 0 #no bonus for others\n",
    "Final['Bonus']=Final.apply(calculate_bonus,axis=1)\n",
    "print(Final)"
   ]
  },
  {
   "cell_type": "code",
   "execution_count": 44,
   "id": "80d22b00-a676-4745-8d68-41a8ecf2677e",
   "metadata": {},
   "outputs": [
    {
     "name": "stdout",
     "output_type": "stream",
     "text": [
      "      ID     Project       Cost    Status Gender     City  Age First_name  \\\n",
      "0   A001   Project 1  1002000.0  Finished      M    Paris   25       Jhon   \n",
      "1   A001   Project 9        NaN   Ongoing      M    Paris   25       Jhon   \n",
      "2   A001  Project 11  2000000.0    Failed      M    Paris   25       Jhon   \n",
      "3   A002   Project 2  2000000.0   Ongoing      F   London   27      Alice   \n",
      "4   A002   Project 6   680000.0    Failed      F   London   27      Alice   \n",
      "5   A003   Project 3  4500000.0  Finished      M   Berlin   29        Tom   \n",
      "6   A003   Project 8   350000.0    Failed      M   Berlin   29        Tom   \n",
      "7   A003  Project 10   300000.0  Finished      M   Berlin   29        Tom   \n",
      "8   A004   Project 4  5500000.0   Ongoing      F  Newyork   31       Nina   \n",
      "9   A004  Project 12  1000000.0   Ongoing      F  Newyork   31       Nina   \n",
      "10  A004  Project 13  3000000.0  Finished      F  Newyork   31       Nina   \n",
      "11  A005   Project 5        NaN  Finished      F   Madrid   30        Amy   \n",
      "12  A005   Project 7   400000.0  Finished      F   Madrid   30        Amy   \n",
      "13  A005  Project 14  2000000.0  Finished      F   Madrid   30        Amy   \n",
      "\n",
      "    Last_name  Designation Level     Bonus  \n",
      "0       Alter                  2   50100.0  \n",
      "1       Alter                  2       0.0  \n",
      "2       Alter                  1       0.0  \n",
      "3   Luxumberg                  2       0.0  \n",
      "4   Luxumberg                  1       0.0  \n",
      "5   Sabestine                  3  225000.0  \n",
      "6   Sabestine                  2       0.0  \n",
      "7   Sabestine                  3   15000.0  \n",
      "8       Adgra                  2       0.0  \n",
      "9       Adgra                  2       0.0  \n",
      "10      Adgra                  2  150000.0  \n",
      "11      Johny                  3       0.0  \n",
      "12      Johny                  3   20000.0  \n",
      "13      Johny                  3  100000.0  \n"
     ]
    }
   ],
   "source": [
    "#task 6: Demote designation and delete records\n",
    "Final.loc[Final['Status'] == 'Failed', 'Designation Level'] -=1 #demote designation\n",
    "Final=Final[Final['Designation Level'] <= 4] #delete employees with designation level above 4\n",
    "print(Final)"
   ]
  },
  {
   "cell_type": "code",
   "execution_count": 46,
   "id": "fb30d0f8-bd55-48a0-ae63-ccf0492acb8a",
   "metadata": {},
   "outputs": [
    {
     "name": "stdout",
     "output_type": "stream",
     "text": [
      "     ID First_name  Total Cost\n",
      "0  A001       Jhon   3002000.0\n",
      "1  A002      Alice   2680000.0\n",
      "2  A003        Tom   5150000.0\n",
      "3  A004       Nina   9500000.0\n",
      "4  A005        Amy   2400000.0\n"
     ]
    }
   ],
   "source": [
    "#Task 9 : Add Cost of all project for each employee\n",
    "TotalprojCost = Final.groupby(['ID','First_name'])['Cost'].sum().reset_index() #group by id,first name,and sum cost\n",
    "TotalprojCost.rename(columns={'Cost':'Total Cost'},inplace=True) #rename the cost column into total cost\n",
    "print(TotalprojCost)"
   ]
  },
  {
   "cell_type": "code",
   "execution_count": 48,
   "id": "04aca7fb-d916-4ddd-9321-0a0f7cfc09f7",
   "metadata": {},
   "outputs": [
    {
     "name": "stdout",
     "output_type": "stream",
     "text": [
      "      ID     Project       Cost    Status Gender     City  Age First_name  \\\n",
      "3   A002   Project 2  2000000.0   Ongoing      F   London   27      Alice   \n",
      "4   A002   Project 6   680000.0    Failed      F   London   27      Alice   \n",
      "8   A004   Project 4  5500000.0   Ongoing      F  Newyork   31       Nina   \n",
      "9   A004  Project 12  1000000.0   Ongoing      F  Newyork   31       Nina   \n",
      "10  A004  Project 13  3000000.0  Finished      F  Newyork   31       Nina   \n",
      "\n",
      "    Last_name  Designation Level     Bonus  \n",
      "3   Luxumberg                  2       0.0  \n",
      "4   Luxumberg                  1       0.0  \n",
      "8       Adgra                  2       0.0  \n",
      "9       Adgra                  2       0.0  \n",
      "10      Adgra                  2  150000.0  \n"
     ]
    }
   ],
   "source": [
    "#Task 10: Print Employees Whose city contains 'o'\n",
    "employees_with_o = Final[Final['City'].str.contains('o',case=False,na=False)]\n",
    "print(employees_with_o)"
   ]
  },
  {
   "cell_type": "code",
   "execution_count": 65,
   "id": "6499f026-ff0a-492f-84cf-7545306a1b98",
   "metadata": {},
   "outputs": [
    {
     "name": "stdout",
     "output_type": "stream",
     "text": [
      "      ID     Project       Cost    Status     City  Age  First_name  \\\n",
      "0   A001   Project 1  1002000.0  Finished    Paris   25    Mr. Jhon   \n",
      "1   A001   Project 9        NaN   Ongoing    Paris   25    Mr. Jhon   \n",
      "2   A001  Project 11  2000000.0    Failed    Paris   25    Mr. Jhon   \n",
      "3   A002   Project 2  2000000.0   Ongoing   London   27  Mrs. Alice   \n",
      "4   A002   Project 6   680000.0    Failed   London   27  Mrs. Alice   \n",
      "5   A003   Project 3  4500000.0  Finished   Berlin   29     Mr. Tom   \n",
      "6   A003   Project 8   350000.0    Failed   Berlin   29     Mr. Tom   \n",
      "7   A003  Project 10   300000.0  Finished   Berlin   29     Mr. Tom   \n",
      "8   A004   Project 4  5500000.0   Ongoing  Newyork   31   Mrs. Nina   \n",
      "9   A004  Project 12  1000000.0   Ongoing  Newyork   31   Mrs. Nina   \n",
      "10  A004  Project 13  3000000.0  Finished  Newyork   31   Mrs. Nina   \n",
      "11  A005   Project 5        NaN  Finished   Madrid   30    Mrs. Amy   \n",
      "12  A005   Project 7   400000.0  Finished   Madrid   30    Mrs. Amy   \n",
      "13  A005  Project 14  2000000.0  Finished   Madrid   30    Mrs. Amy   \n",
      "\n",
      "    Last_name  Designation Level     Bonus  \n",
      "0       Alter                  2   50100.0  \n",
      "1       Alter                  2       0.0  \n",
      "2       Alter                  1       0.0  \n",
      "3   Luxumberg                  2       0.0  \n",
      "4   Luxumberg                  1       0.0  \n",
      "5   Sabestine                  3  225000.0  \n",
      "6   Sabestine                  2       0.0  \n",
      "7   Sabestine                  3   15000.0  \n",
      "8       Adgra                  4       0.0  \n",
      "9       Adgra                  4       0.0  \n",
      "10      Adgra                  4  150000.0  \n",
      "11      Johny                  5       0.0  \n",
      "12      Johny                  5   20000.0  \n",
      "13      Johny                  5  100000.0  \n"
     ]
    }
   ],
   "source": [
    "#Task 8: Promote designation Level for Employees whose age > 29  \n",
    "def promote_desig(row):\n",
    "    if row[\"Age\"]>29: #check the age >29\n",
    "        row[\"Designation Level\"]+=1 # adding 1 in designation \n",
    "    return row\n",
    "Final = Final.apply(promote_desig, axis = 1)\n",
    "print(Final)"
   ]
  },
  {
   "cell_type": "code",
   "execution_count": null,
   "id": "93a214a1-0d3a-4305-8027-9d554dc3d566",
   "metadata": {},
   "outputs": [],
   "source": []
  }
 ],
 "metadata": {
  "kernelspec": {
   "display_name": "Python [conda env:base] *",
   "language": "python",
   "name": "conda-base-py"
  },
  "language_info": {
   "codemirror_mode": {
    "name": "ipython",
    "version": 3
   },
   "file_extension": ".py",
   "mimetype": "text/x-python",
   "name": "python",
   "nbconvert_exporter": "python",
   "pygments_lexer": "ipython3",
   "version": "3.12.7"
  }
 },
 "nbformat": 4,
 "nbformat_minor": 5
}
